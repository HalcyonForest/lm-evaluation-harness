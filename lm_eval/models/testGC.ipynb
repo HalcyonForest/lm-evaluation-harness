{
 "cells": [
  {
   "cell_type": "code",
   "execution_count": 25,
   "metadata": {},
   "outputs": [
    {
     "name": "stdout",
     "output_type": "stream",
     "text": [
      "The autoreload extension is already loaded. To reload it, use:\n",
      "  %reload_ext autoreload\n"
     ]
    }
   ],
   "source": [
    "%load_ext autoreload\n",
    "%autoreload 2\n",
    "import os\n",
    "from gigachat_model import GigaChatLM\n",
    "# from gigachat_model import gigachat_completion\n",
    "from langchain.prompts.chat import (\n",
    "    AIMessagePromptTemplate,\n",
    "    ChatPromptTemplate,\n",
    "    HumanMessagePromptTemplate,\n",
    "    SystemMessagePromptTemplate,\n",
    ")\n",
    "from langchain.schema import AIMessage, HumanMessage, SystemMessage\n",
    "\n",
    "gc = GigaChatLM()\n",
    "\n",
    "# creds = '2f2e446b-9532-4de4-9df4-5632872dd38f'\n",
    "api_key = \"ZTZkM2ZmODYtNDRmNC00OWQ0LTkyNTUtOTA1NzE1ZGY2ZTFjOjJmMmU0NDZiLTk1MzItNGRlNC05ZGY0LTU2MzI4NzJkZDM4Zg==\"\n",
    "# os.environ[''] = creds\n",
    "os.environ['GIGACHAT_API_KEY'] = api_key\n"
   ]
  },
  {
   "cell_type": "code",
   "execution_count": 21,
   "metadata": {},
   "outputs": [
    {
     "data": {
      "text/plain": [
       "'ZTZkM2ZmODYtNDRmNC00OWQ0LTkyNTUtOTA1NzE1ZGY2ZTFjOjJmMmU0NDZiLTk1MzItNGRlNC05ZGY0LTU2MzI4NzJkZDM4Zg=='"
      ]
     },
     "execution_count": 21,
     "metadata": {},
     "output_type": "execute_result"
    }
   ],
   "source": [
    "os.environ.get(\"GIGACHAT_API_KEY\")"
   ]
  },
  {
   "cell_type": "code",
   "execution_count": 22,
   "metadata": {},
   "outputs": [],
   "source": [
    "messages = [\n",
    "    SystemMessage(\n",
    "        content=\"Ты полезный ассистент, который умеет переводить русский на английский.\"\n",
    "    ),\n",
    "    HumanMessage(content=\"Переведи это предложение. Я люблю программирование.\"),\n",
    "]\n"
   ]
  },
  {
   "cell_type": "code",
   "execution_count": 65,
   "metadata": {},
   "outputs": [
    {
     "name": "stdout",
     "output_type": "stream",
     "text": [
      "Messages: [Messages(role='system', content='переведи на английский. В конце добавь \"QQQ\"', function_call=None, name=None, attachments=None, id_=None), Messages(role='user', content='привет. Как твои дела? Какая сейчас погода в Люксембурге. QQQ', function_call=None, name=None, attachments=None, id_=None)]\n"
     ]
    },
    {
     "name": "stderr",
     "output_type": "stream",
     "text": [
      "2024-06-03:12:40:03,611 INFO     [_client.py:1026] HTTP Request: POST https://gigachat.devices.sberbank.ru/api/v1/chat/completions \"HTTP/1.1 200 OK\"\n"
     ]
    },
    {
     "data": {
      "text/plain": [
       "'Hello. How are you doing? What is the weather like in Luxembourg now? QQQ'"
      ]
     },
     "execution_count": 65,
     "metadata": {},
     "output_type": "execute_result"
    }
   ],
   "source": [
    "import re\n",
    "\n",
    "async def gigachat_completion(\n",
    "    client, #: gigachat.GigaChat,\n",
    "    model: str,\n",
    "    prompt: str,\n",
    "    max_tokens: int,\n",
    "    temperature: float,\n",
    "    system: str,\n",
    "    stopwords: list[str],\n",
    "    **kwargs,\n",
    ") -> str:\n",
    "    try:\n",
    "        import gigachat\n",
    "    except ModuleNotFoundError:\n",
    "        raise Exception(\n",
    "            \"attempted to use 'gigachat' LM type, but package `gigachat` is not installed. \\\n",
    "please install gigachat via `pip install 'gigachat'`\",\n",
    "        )\n",
    "    messages=[]\n",
    "    if system:\n",
    "        messages.append(\n",
    "            gigachat.models.Messages(\n",
    "                role=gigachat.models.MessagesRole.SYSTEM,\n",
    "                content=system,\n",
    "            )  \n",
    "        )\n",
    "        \n",
    "    messages.append(\n",
    "            gigachat.models.Messages(\n",
    "                role=gigachat.models.MessagesRole.USER,\n",
    "                content=prompt,\n",
    "            )\n",
    "            )\n",
    "    print(f'Messages: {messages}')\n",
    "    async def completion():\n",
    "        \n",
    "        payload = gigachat.models.Chat(\n",
    "            messages=messages,\n",
    "            model=model,\n",
    "            max_tokens_to_sample=max_tokens,\n",
    "            # max_tokens=max_tokens,\n",
    "            temperature=temperature,\n",
    "            **kwargs,\n",
    "            update_display=0.1\n",
    "        )\n",
    "\n",
    "        # response = client.chat(\n",
    "        #     payload\n",
    "        # )\n",
    "\n",
    "        total_text = ''\n",
    "        pattern = '|'.join(stopwords)\n",
    "        # start = time.time()\n",
    "        async with GigaChat(credentials=os.environ.get(\"GIGACHAT_API_KEY\"), scope=\"GIGACHAT_API_CORP\", verify_ssl_certs=False) as giga:\n",
    "        # stop = ['']\n",
    "            async for chunk in giga.astream(payload):\n",
    "                text = chunk.choices[0].delta.content\n",
    "                total_text += text\n",
    "                print(f'Total text: {total_text}')\n",
    "                k=re.search(pattern, total_text)\n",
    "                if k:\n",
    "                    break\n",
    "\n",
    "\n",
    "        if k:\n",
    "            goodText = total_text[:k.span()[1]]\n",
    "            print(goodText)\n",
    "\n",
    "        return total_text\n",
    "    answer = await completion()\n",
    "    return answer\n",
    "\n",
    "await gigachat_completion(gc.client,gc.model,'привет. Как твои дела? Какая сейчас погода в Люксембурге. QQQ',256,0.8,'переведи на английский. В конце добавь \"QQQ\"')"
   ]
  },
  {
   "cell_type": "code",
   "execution_count": 50,
   "metadata": {},
   "outputs": [
    {
     "name": "stdout",
     "output_type": "stream",
     "text": [
      "Messages: [Messages(role='system', content='Ты самый лучший в мире писатель детских сказок ', function_call=None, name=None, attachments=None, id_=None), Messages(role='user', content='Как звали чипполино из одноименной книги:?', function_call=None, name=None, attachments=None, id_=None)]\n"
     ]
    },
    {
     "ename": "RuntimeError",
     "evalue": "asyncio.run() cannot be called from a running event loop",
     "output_type": "error",
     "traceback": [
      "\u001b[0;31m---------------------------------------------------------------------------\u001b[0m",
      "\u001b[0;31mRuntimeError\u001b[0m                              Traceback (most recent call last)",
      "Cell \u001b[0;32mIn[50], line 42\u001b[0m\n\u001b[1;32m     39\u001b[0m         \u001b[38;5;28;01masync\u001b[39;00m \u001b[38;5;28;01mfor\u001b[39;00m chunk \u001b[38;5;129;01min\u001b[39;00m giga\u001b[38;5;241m.\u001b[39mastream(payload):\n\u001b[1;32m     40\u001b[0m             \u001b[38;5;28mprint\u001b[39m(time\u001b[38;5;241m.\u001b[39mtime(), chunk, flush\u001b[38;5;241m=\u001b[39m\u001b[38;5;28;01mTrue\u001b[39;00m)\n\u001b[0;32m---> 42\u001b[0m \u001b[43masyncio\u001b[49m\u001b[38;5;241;43m.\u001b[39;49m\u001b[43mrun\u001b[49m\u001b[43m(\u001b[49m\u001b[43mmain\u001b[49m\u001b[43m(\u001b[49m\u001b[43m)\u001b[49m\u001b[43m)\u001b[49m\n",
      "File \u001b[0;32m/Library/Frameworks/Python.framework/Versions/3.12/lib/python3.12/asyncio/runners.py:190\u001b[0m, in \u001b[0;36mrun\u001b[0;34m(main, debug, loop_factory)\u001b[0m\n\u001b[1;32m    161\u001b[0m \u001b[38;5;250m\u001b[39m\u001b[38;5;124;03m\"\"\"Execute the coroutine and return the result.\u001b[39;00m\n\u001b[1;32m    162\u001b[0m \n\u001b[1;32m    163\u001b[0m \u001b[38;5;124;03mThis function runs the passed coroutine, taking care of\u001b[39;00m\n\u001b[0;32m   (...)\u001b[0m\n\u001b[1;32m    186\u001b[0m \u001b[38;5;124;03m    asyncio.run(main())\u001b[39;00m\n\u001b[1;32m    187\u001b[0m \u001b[38;5;124;03m\"\"\"\u001b[39;00m\n\u001b[1;32m    188\u001b[0m \u001b[38;5;28;01mif\u001b[39;00m events\u001b[38;5;241m.\u001b[39m_get_running_loop() \u001b[38;5;129;01mis\u001b[39;00m \u001b[38;5;129;01mnot\u001b[39;00m \u001b[38;5;28;01mNone\u001b[39;00m:\n\u001b[1;32m    189\u001b[0m     \u001b[38;5;66;03m# fail fast with short traceback\u001b[39;00m\n\u001b[0;32m--> 190\u001b[0m     \u001b[38;5;28;01mraise\u001b[39;00m \u001b[38;5;167;01mRuntimeError\u001b[39;00m(\n\u001b[1;32m    191\u001b[0m         \u001b[38;5;124m\"\u001b[39m\u001b[38;5;124masyncio.run() cannot be called from a running event loop\u001b[39m\u001b[38;5;124m\"\u001b[39m)\n\u001b[1;32m    193\u001b[0m \u001b[38;5;28;01mwith\u001b[39;00m Runner(debug\u001b[38;5;241m=\u001b[39mdebug, loop_factory\u001b[38;5;241m=\u001b[39mloop_factory) \u001b[38;5;28;01mas\u001b[39;00m runner:\n\u001b[1;32m    194\u001b[0m     \u001b[38;5;28;01mreturn\u001b[39;00m runner\u001b[38;5;241m.\u001b[39mrun(main)\n",
      "\u001b[0;31mRuntimeError\u001b[0m: asyncio.run() cannot be called from a running event loop"
     ]
    }
   ],
   "source": [
    "import asyncio\n",
    "import time\n",
    "import gigachat\n",
    "from gigachat import GigaChat\n",
    "from gigachat.models import Chat, Messages, MessagesRole\n",
    "\n",
    "messages=[]\n",
    "system = \"Ты самый лучший в мире писатель детских сказок \"\n",
    "prompt = \"Как звали чипполино из одноименной книги:?\"\n",
    "if system:\n",
    "    messages.append(\n",
    "        gigachat.models.Messages(\n",
    "            role=gigachat.models.MessagesRole.SYSTEM,\n",
    "            content=system,\n",
    "        )  \n",
    "    )\n",
    "    \n",
    "messages.append(\n",
    "        gigachat.models.Messages(\n",
    "            role=gigachat.models.MessagesRole.USER,\n",
    "            content=prompt,\n",
    "        )\n",
    "        )\n",
    "print(f'Messages: {messages}')\n",
    "\n",
    "payload = gigachat.models.Chat(\n",
    "            messages=messages,\n",
    "            model=gc.model,\n",
    "            max_tokens_to_sample=512,\n",
    "            # max_tokens=max_tokens,\n",
    "            temperature=0.8,\n",
    "            update_display=0.1\n",
    "        )\n",
    "\n",
    "async def main():\n",
    "    async with GigaChat(credentials=os.environ.get(\"GIGACHAT_API_KEY\"),\n",
    "            scope=\"GIGACHAT_API_CORP\",\n",
    "            verify_ssl_certs=False) as giga:\n",
    "        async for chunk in giga.astream(payload):\n",
    "            print(time.time(), chunk, flush=True)\n",
    "\n",
    "asyncio.run(main())\n",
    "\n"
   ]
  },
  {
   "cell_type": "code",
   "execution_count": 38,
   "metadata": {},
   "outputs": [
    {
     "name": "stdout",
     "output_type": "stream",
     "text": [
      "Messages: [Messages(role='system', content='Ты полезный ассистент, который умеет переводить русский на английский. ', function_call=None, name=None, attachments=None, id_=None), Messages(role='user', content='Привет', function_call=None, name=None, attachments=None, id_=None)]\n",
      "0.0002639293670654297\n"
     ]
    }
   ],
   "source": [
    "import time\n",
    "max_tokens=256\n",
    "temperature=0.8\n",
    "system = \"Ты полезный ассистент, который умеет переводить русский на английский. \"\n",
    "    \n",
    "start = time.time()\n",
    "response = gigachat_completion(\n",
    "    client=gc.client,\n",
    "    model=gc.model,\n",
    "    prompt='Привет',\n",
    "    # max_tokens_to_sample=max_gen_toks,\n",
    "    # max_tokens=self.max_tokens,\n",
    "    temperature=temperature,  \n",
    "    system=system,\n",
    "    max_tokens=max_tokens,\n",
    "    # **self.kwargs,\n",
    ")\n",
    "\n",
    "response\n",
    "end = time.time()\n",
    "print(end-start)"
   ]
  },
  {
   "cell_type": "code",
   "execution_count": null,
   "metadata": {},
   "outputs": [],
   "source": [
    "def completion():\n",
    "    \n",
    "    payload = gigachat.models.Chat(\n",
    "        messages=messages,\n",
    "        model=model,\n",
    "        max_tokens_to_sample=max_tokens,\n",
    "        # max_tokens=max_tokens,\n",
    "        temperature=temperature,\n",
    "    )\n",
    "    response = client.chat(\n",
    "        payload\n",
    "    )\n",
    "    return response.choices[0].message.content"
   ]
  }
 ],
 "metadata": {
  "kernelspec": {
   "display_name": "Python 3",
   "language": "python",
   "name": "python3"
  },
  "language_info": {
   "codemirror_mode": {
    "name": "ipython",
    "version": 3
   },
   "file_extension": ".py",
   "mimetype": "text/x-python",
   "name": "python",
   "nbconvert_exporter": "python",
   "pygments_lexer": "ipython3",
   "version": "3.12.2"
  }
 },
 "nbformat": 4,
 "nbformat_minor": 2
}
